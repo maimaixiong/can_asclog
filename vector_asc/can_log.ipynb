{
 "cells": [
  {
   "cell_type": "code",
   "execution_count": null,
   "id": "870d4815",
   "metadata": {},
   "outputs": [],
   "source": [
    "# import can\n",
    "\n",
    "# msgs = can.LogReader(\"../data/obd_1-9.asc\")\n",
    "\n",
    "# for msg in msgs:\n",
    "#     print(msg)"
   ]
  },
  {
   "cell_type": "code",
   "execution_count": 1,
   "id": "6ffea7fe",
   "metadata": {},
   "outputs": [
    {
     "name": "stdout",
     "output_type": "stream",
     "text": [
      "Timestamp:    56271.785156        ID: 03e8    S Rx     F          DL:  8    2d 42 a0 aa 00 ff e5 4c     Channel: 0\n",
      "Timestamp:    56271.789062        ID: 01ba    S Rx     F          DL: 32    b5 29 5d be 60 00 09 fe 00 00 00 00 00 00 00 00 00 00 00 00 00 00 00 00 00 00 00 00 00 00 00 00    Channel: 0\n",
      "Timestamp:    56271.789062        ID: 038e    S Rx     F          DL:  8    00 00 00 00 30 00 00 00     Channel: 0\n",
      "Timestamp:    56271.789062        ID: 017e    S Rx     F          DL:  8    80 60 00 00 00 00 17 4d     Channel: 0\n",
      "Timestamp:    56271.789062        ID: 0170    S Rx     F          DL:  8    00 01 15 9d 4c 00 07 1b     Channel: 0\n",
      "Timestamp:    56271.789062        ID: 0547    S Rx     F          DL:  8    00 00 00 00 00 00 00 00     Channel: 0\n",
      "Timestamp:    56271.789062        ID: 0180    S Rx     F          DL:  8    ff c6 00 00 00 00 07 d5     Channel: 0\n",
      "Timestamp:    56271.789062        ID: 024f    S Rx     F          DL:  8    01 00 7f 00 00 00 0c 07     Channel: 0\n",
      "Timestamp:    56271.789062        ID: 0188    S Rx     F          DL:  8    00 ff ff ff fa ff 09 79     Channel: 0\n",
      "Timestamp:    56271.789062        ID: 01a8    S Rx     F          DL:  8    00 00 31 00 00 00 09 ba     Channel: 0\n"
     ]
    }
   ],
   "source": [
    "import can\n",
    "\n",
    "msgs = can.LogReader(\"../data/obd_1-9.asc\")\n",
    "\n",
    "it = msgs.__iter__()\n",
    "\n",
    "for i in range(10):\n",
    "    msg = it.__next__()\n",
    "    print(msg)"
   ]
  },
  {
   "cell_type": "code",
   "execution_count": 2,
   "id": "6ebb1c84",
   "metadata": {},
   "outputs": [
    {
     "data": {
      "text/html": [
       "<div>\n",
       "<style scoped>\n",
       "    .dataframe tbody tr th:only-of-type {\n",
       "        vertical-align: middle;\n",
       "    }\n",
       "\n",
       "    .dataframe tbody tr th {\n",
       "        vertical-align: top;\n",
       "    }\n",
       "\n",
       "    .dataframe thead th {\n",
       "        text-align: right;\n",
       "    }\n",
       "</style>\n",
       "<table border=\"1\" class=\"dataframe\">\n",
       "  <thead>\n",
       "    <tr style=\"text-align: right;\">\n",
       "      <th></th>\n",
       "      <th>0</th>\n",
       "      <th>1</th>\n",
       "      <th>2</th>\n",
       "      <th>3</th>\n",
       "    </tr>\n",
       "  </thead>\n",
       "  <tbody>\n",
       "    <tr>\n",
       "      <th>0</th>\n",
       "      <td>56271.785156</td>\n",
       "      <td>1000</td>\n",
       "      <td>0</td>\n",
       "      <td>[45, 66, 160, 170, 0, 255, 229, 76]</td>\n",
       "    </tr>\n",
       "    <tr>\n",
       "      <th>1</th>\n",
       "      <td>56271.789062</td>\n",
       "      <td>442</td>\n",
       "      <td>0</td>\n",
       "      <td>[181, 41, 93, 190, 96, 0, 9, 254, 0, 0, 0, 0, ...</td>\n",
       "    </tr>\n",
       "    <tr>\n",
       "      <th>2</th>\n",
       "      <td>56271.789062</td>\n",
       "      <td>910</td>\n",
       "      <td>0</td>\n",
       "      <td>[0, 0, 0, 0, 48, 0, 0, 0]</td>\n",
       "    </tr>\n",
       "    <tr>\n",
       "      <th>3</th>\n",
       "      <td>56271.789062</td>\n",
       "      <td>382</td>\n",
       "      <td>0</td>\n",
       "      <td>[128, 96, 0, 0, 0, 0, 23, 77]</td>\n",
       "    </tr>\n",
       "    <tr>\n",
       "      <th>4</th>\n",
       "      <td>56271.789062</td>\n",
       "      <td>368</td>\n",
       "      <td>0</td>\n",
       "      <td>[0, 1, 21, 157, 76, 0, 7, 27]</td>\n",
       "    </tr>\n",
       "    <tr>\n",
       "      <th>...</th>\n",
       "      <td>...</td>\n",
       "      <td>...</td>\n",
       "      <td>...</td>\n",
       "      <td>...</td>\n",
       "    </tr>\n",
       "    <tr>\n",
       "      <th>972256</th>\n",
       "      <td>56668.332031</td>\n",
       "      <td>442</td>\n",
       "      <td>0</td>\n",
       "      <td>[181, 41, 93, 216, 160, 0, 15, 167, 0, 0, 0, 0...</td>\n",
       "    </tr>\n",
       "    <tr>\n",
       "      <th>972257</th>\n",
       "      <td>56668.332031</td>\n",
       "      <td>591</td>\n",
       "      <td>0</td>\n",
       "      <td>[1, 0, 127, 0, 0, 0, 0, 155]</td>\n",
       "    </tr>\n",
       "    <tr>\n",
       "      <th>972258</th>\n",
       "      <td>56668.332031</td>\n",
       "      <td>832</td>\n",
       "      <td>0</td>\n",
       "      <td>[1, 16, 127, 71, 254, 32, 128, 0]</td>\n",
       "    </tr>\n",
       "    <tr>\n",
       "      <th>972259</th>\n",
       "      <td>56668.335938</td>\n",
       "      <td>1435</td>\n",
       "      <td>0</td>\n",
       "      <td>[0, 0, 0, 0, 0, 32, 6, 67]</td>\n",
       "    </tr>\n",
       "    <tr>\n",
       "      <th>972260</th>\n",
       "      <td>56668.335938</td>\n",
       "      <td>652</td>\n",
       "      <td>0</td>\n",
       "      <td>[0, 0, 0, 0, 0, 0, 3, 45]</td>\n",
       "    </tr>\n",
       "  </tbody>\n",
       "</table>\n",
       "<p>972261 rows × 4 columns</p>\n",
       "</div>"
      ],
      "text/plain": [
       "                   0     1  2  \\\n",
       "0       56271.785156  1000  0   \n",
       "1       56271.789062   442  0   \n",
       "2       56271.789062   910  0   \n",
       "3       56271.789062   382  0   \n",
       "4       56271.789062   368  0   \n",
       "...              ...   ... ..   \n",
       "972256  56668.332031   442  0   \n",
       "972257  56668.332031   591  0   \n",
       "972258  56668.332031   832  0   \n",
       "972259  56668.335938  1435  0   \n",
       "972260  56668.335938   652  0   \n",
       "\n",
       "                                                        3  \n",
       "0                     [45, 66, 160, 170, 0, 255, 229, 76]  \n",
       "1       [181, 41, 93, 190, 96, 0, 9, 254, 0, 0, 0, 0, ...  \n",
       "2                               [0, 0, 0, 0, 48, 0, 0, 0]  \n",
       "3                           [128, 96, 0, 0, 0, 0, 23, 77]  \n",
       "4                           [0, 1, 21, 157, 76, 0, 7, 27]  \n",
       "...                                                   ...  \n",
       "972256  [181, 41, 93, 216, 160, 0, 15, 167, 0, 0, 0, 0...  \n",
       "972257                       [1, 0, 127, 0, 0, 0, 0, 155]  \n",
       "972258                  [1, 16, 127, 71, 254, 32, 128, 0]  \n",
       "972259                         [0, 0, 0, 0, 0, 32, 6, 67]  \n",
       "972260                          [0, 0, 0, 0, 0, 0, 3, 45]  \n",
       "\n",
       "[972261 rows x 4 columns]"
      ]
     },
     "execution_count": 2,
     "metadata": {},
     "output_type": "execute_result"
    }
   ],
   "source": [
    "import operator\n",
    "import pandas as pd\n",
    "log=can.ASCReader(\"../data/obd_1-9.asc\")\n",
    "pd.DataFrame(data=map(operator.attrgetter('timestamp','arbitration_id', 'channel', 'data'), log))"
   ]
  },
  {
   "cell_type": "markdown",
   "id": "b8274876",
   "metadata": {},
   "source": [
    "https://blog.csdn.net/qfmzhu/article/details/130063907 图文详解CAN Log文件 - ASC文件格式\n",
    "\n",
    "https://bitbucket.org/tobylorenz/vector_asc.git\n"
   ]
  },
  {
   "cell_type": "code",
   "execution_count": 4,
   "id": "8139160c",
   "metadata": {},
   "outputs": [
    {
     "data": {
      "text/plain": [
       "'0x123'"
      ]
     },
     "execution_count": 4,
     "metadata": {},
     "output_type": "execute_result"
    }
   ],
   "source": [
    "hex(291)"
   ]
  }
 ],
 "metadata": {
  "kernelspec": {
   "display_name": "Python 3 (ipykernel)",
   "language": "python",
   "name": "python3"
  },
  "language_info": {
   "codemirror_mode": {
    "name": "ipython",
    "version": 3
   },
   "file_extension": ".py",
   "mimetype": "text/x-python",
   "name": "python",
   "nbconvert_exporter": "python",
   "pygments_lexer": "ipython3",
   "version": "3.8.10"
  }
 },
 "nbformat": 4,
 "nbformat_minor": 5
}
